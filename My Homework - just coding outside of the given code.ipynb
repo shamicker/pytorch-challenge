{
 "cells": [
  {
   "cell_type": "code",
   "execution_count": 41,
   "metadata": {},
   "outputs": [],
   "source": [
    "# import modules\n",
    "import torch\n",
    "# torch.nn has most functions, torch.optim has optimizers\n",
    "from torch import nn, optim\n",
    "#torch.nn.functional also has functions. I'm not sure how it's diff from just torch.nn\n",
    "import torch.nn.functional as F\n",
    "\n",
    "# torchvision has datasets (from real world) so you can just import from here\n",
    "from torchvision import datasets, transforms\n",
    "\n",
    "# to graph your losses and data (if they're that kind of data)\n",
    "%matplotlib inline\n",
    "%config InlineBackend.figure_format = 'retina'\n",
    "\n",
    "import matplotlib.pyplot as plt"
   ]
  },
  {
   "cell_type": "markdown",
   "metadata": {},
   "source": [
    "**The difference between torch.nn and torch.nn.functional is that the functional functions support an *input*! Which is probably why they're called functional - they operate as functions.**"
   ]
  },
  {
   "cell_type": "markdown",
   "metadata": {},
   "source": [
    "You might want to normalize the data. I think it's just to make sure it's all the same \"volumes\", brightnesses, etc, but I'm not totally sure about why."
   ]
  },
  {
   "cell_type": "code",
   "execution_count": 42,
   "metadata": {},
   "outputs": [],
   "source": [
    "# Define a transform to normalize data\n",
    "transform = transforms.Compose([transforms.ToTensor(), \n",
    "                                transforms.Normalize((0.5, 0.5, 0.5), (0.5, 0.5, 0.5))])"
   ]
  },
  {
   "cell_type": "code",
   "execution_count": 43,
   "metadata": {},
   "outputs": [],
   "source": [
    "# download the data. Separate if you're training and testing.\n",
    "trainingset = datasets.FashionMNIST('~/.pytorch/F_MNIST_data/', download=True, train=True, transform=transform)\n",
    "trainloader = torch.utils.data.DataLoader(trainingset, batch_size=64, shuffle=True)\n",
    "\n",
    "# this says to download, for training, use the transform\n",
    "# and trainloader is an iterator: for trainingset, batch size, and shuffle the data rather than giving it straight"
   ]
  },
  {
   "cell_type": "code",
   "execution_count": 44,
   "metadata": {},
   "outputs": [],
   "source": [
    "# here's the test data\n",
    "testset = datasets.FashionMNIST('~/.pytorch/F_MNIST_data/', download=True, train=False, transform=transform)\n",
    "testloader = torch.utils.data.DataLoader(testset, batch_size=64, shuffle=True)"
   ]
  },
  {
   "cell_type": "markdown",
   "metadata": {},
   "source": [
    "Create a model or a **Network**. There are many ways to do this!! And it depends on what you want to do.\n",
    "\n",
    "For now, we've only looked at **Linear** boundaries. But each **Linear** function can goes through an **activation function**, such as Softmax, Sigmoid, ReLU, Log of Softmax, etc."
   ]
  },
  {
   "cell_type": "code",
   "execution_count": 45,
   "metadata": {},
   "outputs": [],
   "source": [
    "# define the class/network and import nn.Module so that it copies much of its stuff... (I'm not super clear on classes.)\n",
    "class Network(nn.Module):\n",
    "    # initialize - what you want to happen automatically when you create a new instance (with no added info per instance)\n",
    "    def __init__(self):\n",
    "        # I don't actually know what this line does...\n",
    "        # MDN says it's used to call upon the constructor's parent. Can be used to prevent duplicating between constructors?\n",
    "        super().__init__()\n",
    "        # this is where you lay out the architecture of this network. \n",
    "        # Here, we're making 3 hidden layers of sizes 256, 128 and 64.\n",
    "        # Our inputs have a size of 784 (our imagees are 28x28 and we'll flatten them to 784)\n",
    "        # We want 10 outputs: one for each classification.\n",
    "        self.layer1 = nn.Linear(784, 256)\n",
    "        self.layer2 = nn.Linear(256, 128)\n",
    "        self.layer3 = nn.Linear(128, 64)\n",
    "        self.layer4 = nn.Linear(64, 10)\n",
    "        \n",
    "        # if you want to add a dropout, do it here\n",
    "        # p=0.2 means a probability of a node being dropped (during training) is 20%\n",
    "        self.dropout = nn.Dropout(p=0.2)\n",
    "        \n",
    "    # a method that we'll be able to call on our instances. Note when we call it we need an input imgs\n",
    "    def forward(self, imgs):\n",
    "        # flatten our input images\n",
    "        imgs = imgs.view(imgs.shape[0], -1)\n",
    "        \n",
    "        # each linear layer goes through a ReLU activation, except the last which is log_softmax\n",
    "        imgs = self.dropout(F.relu(self.layer1(imgs)))\n",
    "        imgs = self.dropout(F.relu(self.layer2(imgs)))\n",
    "        imgs = self.dropout(F.relu(self.layer3(imgs)))\n",
    "        \n",
    "        # the dim=1 is to tell it to calculate across the columns: so each row will add up to 1.\n",
    "        imgs = F.log_softmax(self.layer4(imgs), dim=1)\n",
    "        \n",
    "        return imgs"
   ]
  },
  {
   "cell_type": "markdown",
   "metadata": {},
   "source": [
    "Everything is predefined now. It might be a good idea to put the following into functions, but I won't... for now.\n",
    "\n",
    "Okay. I'll define some of them."
   ]
  },
  {
   "cell_type": "code",
   "execution_count": 66,
   "metadata": {},
   "outputs": [],
   "source": [
    "# One forward pass, as a function\n",
    "def train_me():\n",
    "    running_loss = 0\n",
    "\n",
    "    # for each batch or mini batch of data\n",
    "    for images, labels in trainloader:\n",
    "        \n",
    "        # reset the optimizer's memory to 0\n",
    "        optimizer.zero_grad()\n",
    "        \n",
    "        # get the output of the model & calculate the loss\n",
    "        log_probabilities = model(images)\n",
    "        loss = criterion(log_probabilities, labels)\n",
    "        \n",
    "        # backpropagate with the loss and update the weights\n",
    "        loss.backward()\n",
    "        optimizer.step()\n",
    "        \n",
    "        # accumulate losses\n",
    "        running_loss += loss\n",
    "        \n",
    "    return running_loss"
   ]
  },
  {
   "cell_type": "code",
   "execution_count": 67,
   "metadata": {},
   "outputs": [],
   "source": [
    "# one validation pass, as a function\n",
    "def validate_me():\n",
    "    running_loss = 0\n",
    "    accuracy = 0\n",
    "    \n",
    "    # switch to evaluation mode - turn off the dropout\n",
    "    model.eval()\n",
    "    \n",
    "    # turn off the gradient memory, mainly for speed\n",
    "    with torch.no_grad():\n",
    "        \n",
    "        # for each batch of test data\n",
    "        for images, labels in testloader:\n",
    "            \n",
    "            # get the log probabilities (from log-softmax) and the loss\n",
    "            log_probs = model(images)\n",
    "            loss = criterion(log_probs, labels)\n",
    "            \n",
    "            # get the actual probabilities: I don't know why, but when using log_softmax it's the logs of the probabilities\n",
    "            # but here, we want the ACTUAL probabilities. To do this, we exponentialize the log probabilities\n",
    "            ps = torch.exp(log_probs)\n",
    "            \n",
    "            # Here, we want to test the probabilities. The network SHOULD be classifying our data into the 10 outputs.\n",
    "            # So we take the 1 highest output for each image and compare it to the label.\n",
    "            _,top_result = ps.topk(1)\n",
    "            \n",
    "            # we create a binary tensor of whether it's right or wrong.\n",
    "            equals = top_result == labels.view(*top_result.shape)\n",
    "            \n",
    "            # We need to change the data types to floats, then take the mean, then make it a %.\n",
    "            acc = torch.mean(equals.type(torch.FloatTensor))\n",
    "            \n",
    "            # accumulate losses and accuracies\n",
    "            running_loss += loss\n",
    "            accuracy += acc\n",
    "            \n",
    "    # remember to switch back to training mode!\n",
    "    model.train()\n",
    "    \n",
    "    return running_loss, accuracy"
   ]
  },
  {
   "cell_type": "code",
   "execution_count": 68,
   "metadata": {},
   "outputs": [],
   "source": [
    "# plot the training vs test losses\n",
    "def plot_me(training, testing, accuracy):\n",
    "    plt.plot(training, label=\"Training loss\")\n",
    "    plt.plot(testing, label=\"Validation loss\")\n",
    "    plt.plot(accuracy, label=\"Accuracy\")\n",
    "    plt.legend(frameon=False)"
   ]
  },
  {
   "cell_type": "code",
   "execution_count": 69,
   "metadata": {},
   "outputs": [
    {
     "data": {
      "text/plain": [
       "Network(\n",
       "  (layer1): Linear(in_features=784, out_features=256, bias=True)\n",
       "  (layer2): Linear(in_features=256, out_features=128, bias=True)\n",
       "  (layer3): Linear(in_features=128, out_features=64, bias=True)\n",
       "  (layer4): Linear(in_features=64, out_features=10, bias=True)\n",
       "  (dropout): Dropout(p=0.2)\n",
       ")"
      ]
     },
     "execution_count": 69,
     "metadata": {},
     "output_type": "execute_result"
    }
   ],
   "source": [
    "# Instantiate a model\n",
    "model = Network()\n",
    "\n",
    "# check it out! It just tells you what you've put in.\n",
    "model"
   ]
  },
  {
   "cell_type": "code",
   "execution_count": 70,
   "metadata": {},
   "outputs": [],
   "source": [
    "# We also want to define our loss function (criterion) and optimizer.\n",
    "\n",
    "# We use this loss function because we will be running it on log-softmax. They go hand in hand for some reason...\n",
    "criterion = nn.NLLLoss()\n",
    "\n",
    "# The Adam optimizer is apparently really great for using Momentum,\n",
    "# which automatically adjusts the size of the gradient descent steps.\n",
    "\n",
    "# lr is the learning rate\n",
    "optimizer = optim.Adam(model.parameters(), lr=0.1)"
   ]
  },
  {
   "cell_type": "code",
   "execution_count": 71,
   "metadata": {},
   "outputs": [],
   "source": [
    "# Also, define how long to run (in this case, number of epochs)\n",
    "epochs = 20\n",
    "\n",
    "# Optionally, initialize the steps and train/test losses if you want to keep track of these\n",
    "steps = 0\n",
    "training_losses, test_losses = [], []\n",
    "accs = []"
   ]
  },
  {
   "cell_type": "markdown",
   "metadata": {},
   "source": [
    "We'll loop through the training data to train it."
   ]
  },
  {
   "cell_type": "code",
   "execution_count": 72,
   "metadata": {},
   "outputs": [
    {
     "name": "stdout",
     "output_type": "stream",
     "text": [
      "Epoch 0  |  Training loss: 4.186  |  Test loss: 2.309  |  Accuracy: 9.982%\n",
      "Epoch 1  |  Training loss: 2.457  |  Test loss: 2.316  |  Accuracy: 10.012%\n",
      "Epoch 2  |  Training loss: 2.366  |  Test loss: 2.312  |  Accuracy: 9.982%\n",
      "Epoch 3  |  Training loss: 3.805  |  Test loss: 2.312  |  Accuracy: 10.042%\n",
      "Epoch 4  |  Training loss: 2.548  |  Test loss: 2.310  |  Accuracy: 10.072%\n",
      "Epoch 5  |  Training loss: 2.311  |  Test loss: 2.310  |  Accuracy: 10.012%\n",
      "Epoch 6  |  Training loss: 5.089  |  Test loss: 2.308  |  Accuracy: 9.982%\n",
      "Epoch 7  |  Training loss: 4.462  |  Test loss: 2.309  |  Accuracy: 9.952%\n",
      "Epoch 8  |  Training loss: 2.799  |  Test loss: 2.312  |  Accuracy: 9.952%\n",
      "Epoch 9  |  Training loss: 2.312  |  Test loss: 2.309  |  Accuracy: 10.012%\n",
      "Epoch 10  |  Training loss: 7.460  |  Test loss: 2.318  |  Accuracy: 9.982%\n",
      "Epoch 11  |  Training loss: 7.531  |  Test loss: 2.311  |  Accuracy: 10.012%\n",
      "Epoch 12  |  Training loss: 4.606  |  Test loss: 2.308  |  Accuracy: 9.952%\n",
      "Epoch 13  |  Training loss: 3.029  |  Test loss: 2.316  |  Accuracy: 10.012%\n",
      "Epoch 14  |  Training loss: 2.636  |  Test loss: 2.319  |  Accuracy: 9.982%\n",
      "Epoch 15  |  Training loss: 2.311  |  Test loss: 2.306  |  Accuracy: 10.072%\n",
      "Epoch 16  |  Training loss: 2.311  |  Test loss: 2.310  |  Accuracy: 9.982%\n",
      "Epoch 17  |  Training loss: 2.499  |  Test loss: 2.308  |  Accuracy: 10.012%\n",
      "Epoch 18  |  Training loss: 2.312  |  Test loss: 2.312  |  Accuracy: 10.012%\n",
      "Epoch 19  |  Training loss: 2.311  |  Test loss: 2.314  |  Accuracy: 10.042%\n"
     ]
    }
   ],
   "source": [
    "for e in range(epochs):\n",
    "    \n",
    "    training_loss = train_me()\n",
    "    test_loss, accuracy = validate_me()\n",
    "    \n",
    "    # troubleshoot\n",
    "#     print(type(training_loss), type(test_loss), type(accuracy))\n",
    "    \n",
    "    print(\"Epoch {}  |  Training loss: {:.3f}  |  Test loss: {:.3f}  |  Accuracy: {:.3f}%\".format(\n",
    "        e,\n",
    "        training_loss/len(trainloader),\n",
    "        test_loss/len(testloader),\n",
    "        (accuracy/len(testloader))*100))\n",
    "    \n",
    "    training_losses.append(training_loss/len(trainloader))\n",
    "    test_losses.append(test_loss/len(testloader))\n",
    "    accs.append(accuracy/len(testloader))"
   ]
  },
  {
   "cell_type": "code",
   "execution_count": 73,
   "metadata": {},
   "outputs": [
    {
     "name": "stdout",
     "output_type": "stream",
     "text": [
      "20\n",
      "20\n"
     ]
    },
    {
     "data": {
      "image/png": "[encoded data removed]",
      "text/plain": [
       "<Figure size 432x288 with 1 Axes>"
      ]
     },
     "metadata": {
      "image/png": {
       "height": 250,
       "width": 364
      }
     },
     "output_type": "display_data"
    }
   ],
   "source": [
    "print(len(training_losses))\n",
    "print(len(test_losses))\n",
    "plot_me(training_losses, test_losses, accs)"
   ]
  },
  {
   "cell_type": "code",
   "execution_count": null,
   "metadata": {},
   "outputs": [],
   "source": []
  }
 ],
 "metadata": {
  "kernelspec": {
   "display_name": "Python [conda env:Anaconda3]",
   "language": "python",
   "name": "conda-env-Anaconda3-py"
  },
  "language_info": {
   "codemirror_mode": {
    "name": "ipython",
    "version": 3
   },
   "file_extension": ".py",
   "mimetype": "text/x-python",
   "name": "python",
   "nbconvert_exporter": "python",
   "pygments_lexer": "ipython3",
   "version": "3.6.6"
  }
 },
 "nbformat": 4,
 "nbformat_minor": 2
}
