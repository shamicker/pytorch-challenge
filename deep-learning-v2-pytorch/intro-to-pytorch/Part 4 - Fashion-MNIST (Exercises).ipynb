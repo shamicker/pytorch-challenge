{
 "cells": [
  {
   "cell_type": "markdown",
   "metadata": {},
   "source": [
    "# Classifying Fashion-MNIST\n",
    "\n",
    "Now it's your turn to build and train a neural network. You'll be using the [Fashion-MNIST dataset](https://github.com/zalandoresearch/fashion-mnist), a drop-in replacement for the MNIST dataset. MNIST is actually quite trivial with neural networks where you can easily achieve better than 97% accuracy. Fashion-MNIST is a set of 28x28 greyscale images of clothes. It's more complex than MNIST, so it's a better representation of the actual performance of your network, and a better representation of datasets you'll use in the real world.\n",
    "\n",
    "<img src='assets/fashion-mnist-sprite.png' width=500px>\n",
    "\n",
    "In this notebook, you'll build your own neural network. For the most part, you could just copy and paste the code from Part 3, but you wouldn't be learning. It's important for you to write the code yourself and get it to work. Feel free to consult the previous notebooks though as you work through this.\n",
    "\n",
    "First off, let's load the dataset through torchvision."
   ]
  },
  {
   "cell_type": "code",
   "execution_count": 113,
   "metadata": {},
   "outputs": [],
   "source": [
    "import torch\n",
    "from torchvision import datasets, transforms\n",
    "import helper\n",
    "\n",
    "# Define a transform to normalize the data\n",
    "transform = transforms.Compose([transforms.ToTensor(),\n",
    "                                transforms.Normalize((0.5, 0.5, 0.5), (0.5, 0.5, 0.5))])\n",
    "# Download and load the training data\n",
    "trainset = datasets.FashionMNIST('~/.pytorch/F_MNIST_data/', download=True, train=True, transform=transform)\n",
    "trainloader = torch.utils.data.DataLoader(trainset, batch_size=64, shuffle=True)\n",
    "\n",
    "# Download and load the test data\n",
    "testset = datasets.FashionMNIST('~/.pytorch/F_MNIST_data/', download=True, train=False, transform=transform)\n",
    "testloader = torch.utils.data.DataLoader(testset, batch_size=64, shuffle=True)"
   ]
  },
  {
   "cell_type": "markdown",
   "metadata": {},
   "source": [
    "Here we can see one of the images."
   ]
  },
  {
   "cell_type": "code",
   "execution_count": 114,
   "metadata": {},
   "outputs": [
    {
     "data": {
      "image/png": "[encoded data removed]",
      "text/plain": [
       "<Figure size 432x288 with 1 Axes>"
      ]
     },
     "metadata": {
      "image/png": {
       "height": 233,
       "width": 233
      }
     },
     "output_type": "display_data"
    }
   ],
   "source": [
    "image, label = next(iter(trainloader))\n",
    "helper.imshow(image[0,:]);"
   ]
  },
  {
   "cell_type": "markdown",
   "metadata": {},
   "source": [
    "## Building the network\n",
    "\n",
    "Here you should define your network. As with MNIST, each image is 28x28 which is a total of 784 pixels, and there are 10 classes. You should include at least one hidden layer. We suggest you use ReLU activations for the layers and to return the logits or log-softmax from the forward pass. It's up to you how many layers you add and the size of those layers."
   ]
  },
  {
   "cell_type": "code",
   "execution_count": 115,
   "metadata": {},
   "outputs": [
    {
     "data": {
      "text/plain": [
       "Sequential(\n",
       "  (0): Linear(in_features=784, out_features=128, bias=True)\n",
       "  (1): ReLU()\n",
       "  (2): Linear(in_features=128, out_features=64, bias=True)\n",
       "  (3): ReLU()\n",
       "  (4): Linear(in_features=64, out_features=10, bias=True)\n",
       "  (5): LogSoftmax()\n",
       ")"
      ]
     },
     "execution_count": 115,
     "metadata": {},
     "output_type": "execute_result"
    }
   ],
   "source": [
    "# TODO: Define your network architecture here\n",
    "model = nn.Sequential(nn.Linear(784,128),\n",
    "                      nn.ReLU(),\n",
    "                      nn.Linear(128,64),\n",
    "                      nn.ReLU(),\n",
    "                      nn.Linear(64,10),\n",
    "                      nn.LogSoftmax(dim=1))\n",
    "\n",
    "model"
   ]
  },
  {
   "cell_type": "markdown",
   "metadata": {},
   "source": [
    "# Train the network\n",
    "\n",
    "Now you should create your network and train it. First you'll want to define [the criterion](http://pytorch.org/docs/master/nn.html#loss-functions) ( something like `nn.CrossEntropyLoss`) and [the optimizer](http://pytorch.org/docs/master/optim.html) (typically `optim.SGD` or `optim.Adam`).\n",
    "\n",
    "Then write the training code. Remember the training pass is a fairly straightforward process:\n",
    "\n",
    "* Make a forward pass through the network to get the logits \n",
    "* Use the logits to calculate the loss\n",
    "* Perform a backward pass through the network with `loss.backward()` to calculate the gradients\n",
    "* Take a step with the optimizer to update the weights\n",
    "\n",
    "By adjusting the hyperparameters (hidden units, learning rate, etc), you should be able to get the training loss below 0.4."
   ]
  },
  {
   "cell_type": "code",
   "execution_count": 116,
   "metadata": {},
   "outputs": [],
   "source": [
    "# TODO: Create the network, define the criterion and optimizer\n",
    "criterion = nn.NLLLoss()\n",
    "optimizer = torch.optim.SGD(model.parameters(), lr=0.1)"
   ]
  },
  {
   "cell_type": "code",
   "execution_count": 117,
   "metadata": {},
   "outputs": [
    {
     "data": {
      "text/plain": [
       "938"
      ]
     },
     "execution_count": 117,
     "metadata": {},
     "output_type": "execute_result"
    }
   ],
   "source": [
    "# images,labels = next(iter(trainloader))\n",
    "# print(images.shape)\n",
    "# print(labels.shape)\n",
    "# images = images.view(64,-1)\n",
    "# print(images.shape)\n",
    "len(trainloader)"
   ]
  },
  {
   "cell_type": "code",
   "execution_count": 118,
   "metadata": {},
   "outputs": [
    {
     "name": "stdout",
     "output_type": "stream",
     "text": [
      "\n",
      "***********\n",
      "epoch: 0\n",
      "batch #: 938\n",
      "images.shape: torch.Size([32, 1, 28, 28])\n",
      "flat images.shape: torch.Size([32, 784])\n",
      "running loss: 551.920455545187\n",
      "Training loss: 0.5884013385343145\n",
      "\n",
      "***********\n",
      "epoch: 1\n",
      "batch #: 938\n",
      "images.shape: torch.Size([32, 1, 28, 28])\n",
      "flat images.shape: torch.Size([32, 784])\n",
      "running loss: 383.17823627591133\n",
      "Training loss: 0.40850558238370077\n",
      "\n",
      "***********\n",
      "epoch: 2\n",
      "batch #: 938\n",
      "images.shape: torch.Size([32, 1, 28, 28])\n",
      "flat images.shape: torch.Size([32, 784])\n",
      "running loss: 343.848481670022\n",
      "Training loss: 0.36657620647123884\n",
      "\n",
      "***********\n",
      "epoch: 3\n",
      "batch #: 938\n",
      "images.shape: torch.Size([32, 1, 28, 28])\n",
      "flat images.shape: torch.Size([32, 784])\n",
      "running loss: 317.66005828231573\n",
      "Training loss: 0.3386567785525754\n",
      "\n",
      "***********\n",
      "epoch: 4\n",
      "batch #: 938\n",
      "images.shape: torch.Size([32, 1, 28, 28])\n",
      "flat images.shape: torch.Size([32, 784])\n",
      "running loss: 297.8419923707843\n",
      "Training loss: 0.3175287765146954\n",
      "\n",
      "***********\n",
      "epoch: 5\n",
      "batch #: 938\n",
      "images.shape: torch.Size([32, 1, 28, 28])\n",
      "flat images.shape: torch.Size([32, 784])\n",
      "running loss: 282.92379643023014\n",
      "Training loss: 0.30162451645013877\n",
      "\n",
      "***********\n",
      "epoch: 6\n",
      "batch #: 938\n",
      "images.shape: torch.Size([32, 1, 28, 28])\n",
      "flat images.shape: torch.Size([32, 784])\n",
      "running loss: 269.36316599696875\n",
      "Training loss: 0.28716755436777053\n",
      "\n",
      "***********\n",
      "epoch: 7\n",
      "batch #: 938\n",
      "images.shape: torch.Size([32, 1, 28, 28])\n",
      "flat images.shape: torch.Size([32, 784])\n",
      "running loss: 258.9541108608246\n",
      "Training loss: 0.2760704806618599\n",
      "\n",
      "***********\n",
      "epoch: 8\n",
      "batch #: 938\n",
      "images.shape: torch.Size([32, 1, 28, 28])\n",
      "flat images.shape: torch.Size([32, 784])\n",
      "running loss: 248.29722824692726\n",
      "Training loss: 0.26470919855749175\n",
      "\n",
      "***********\n",
      "epoch: 9\n",
      "batch #: 938\n",
      "images.shape: torch.Size([32, 1, 28, 28])\n",
      "flat images.shape: torch.Size([32, 784])\n",
      "running loss: 241.80603295564651\n",
      "Training loss: 0.25778894771390887\n"
     ]
    }
   ],
   "source": [
    "# TODO: Train the network here\n",
    "# when to stop? (#epochs or to a certain training loss)\n",
    "epoch = 10\n",
    "for e in range(epoch):\n",
    "    print(\"\\n***********\")\n",
    "    print(\"epoch:\", e)\n",
    "    # measure your total loss\n",
    "    running_loss = 0\n",
    "    batch = 0\n",
    "    \n",
    "    for images, labels in trainloader:\n",
    "        # flatten the images to go through the first pass\n",
    "        flat = images.view(-1,784)\n",
    "        \n",
    "        # troubleshooting\n",
    "        batch += 1\n",
    "        if flat.shape != torch.Size([64,784]):\n",
    "            print('batch #:', batch)\n",
    "            print('images.shape:', images.shape)\n",
    "            print('flat images.shape:', flat.shape)\n",
    "        \n",
    "        # erase their memories\n",
    "        optimizer.zero_grad()\n",
    "        \n",
    "        # get first batch of outputs; ie. first pass\n",
    "        output = model(flat)\n",
    "        \n",
    "        # measure the loss\n",
    "        loss = criterion(output, labels)\n",
    "        \n",
    "        # go backwards to calculate gradients\n",
    "        loss.backward()\n",
    "        \n",
    "        # update weights with optimizer's step\n",
    "        optimizer.step()\n",
    "\n",
    "        # sum up the losses   \n",
    "        running_loss += loss.item()\n",
    "    else: \n",
    "        print(\"running loss:\", running_loss)\n",
    "        print(\"Training loss:\", running_loss/len(trainloader))"
   ]
  },
  {
   "cell_type": "code",
   "execution_count": 131,
   "metadata": {},
   "outputs": [
    {
     "data": {
      "image/png": "[encoded data removed]",
      "text/plain": [
       "<Figure size 432x648 with 2 Axes>"
      ]
     },
     "metadata": {
      "image/png": {
       "height": 204,
       "width": 423
      }
     },
     "output_type": "display_data"
    }
   ],
   "source": [
    "%matplotlib inline\n",
    "%config InlineBackend.figure_format = 'retina'\n",
    "\n",
    "import helper\n",
    "\n",
    "# Test out your network!\n",
    "\n",
    "dataiter = iter(testloader)\n",
    "images, labels = dataiter.next()\n",
    "img = images[0]\n",
    "# Convert 2D image to 1D vector\n",
    "img = img.resize_(1, 784)\n",
    "\n",
    "# TODO: Calculate the class probabilities (softmax) for img\n",
    "ps = torch.exp(model(img))\n",
    "\n",
    "# Plot the image and probabilities\n",
    "helper.view_classify(img.resize_(1, 28, 28), ps, version='Fashion')"
   ]
  }
 ],
 "metadata": {
  "kernelspec": {
   "display_name": "Python [default]",
   "language": "python",
   "name": "python3"
  },
  "language_info": {
   "codemirror_mode": {
    "name": "ipython",
    "version": 3
   },
   "file_extension": ".py",
   "mimetype": "text/x-python",
   "name": "python",
   "nbconvert_exporter": "python",
   "pygments_lexer": "ipython3",
   "version": "3.6.6"
  }
 },
 "nbformat": 4,
 "nbformat_minor": 2
}
