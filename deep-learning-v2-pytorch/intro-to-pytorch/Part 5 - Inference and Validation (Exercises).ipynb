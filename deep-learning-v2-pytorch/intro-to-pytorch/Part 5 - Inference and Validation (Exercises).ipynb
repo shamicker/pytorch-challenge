{
 "cells": [
  {
   "cell_type": "markdown",
   "metadata": {},
   "source": [
    "# Inference and Validation\n",
    "\n",
    "Now that you have a trained network, you can use it for making predictions. This is typically called **inference**, a term borrowed from statistics. However, neural networks have a tendency to perform *too well* on the training data and aren't able to generalize to data that hasn't been seen before. This is called **overfitting** and it impairs inference performance. To test for overfitting while training, we measure the performance on data not in the training set called the **validation** set. We avoid overfitting through regularization such as dropout while monitoring the validation performance during training. In this notebook, I'll show you how to do this in PyTorch. \n",
    "\n",
    "As usual, let's start by loading the dataset through torchvision. You'll learn more about torchvision and loading data in a later part. This time we'll be taking advantage of the test set which you can get by setting `train=False` here:\n",
    "\n",
    "```python\n",
    "testset = datasets.FashionMNIST('~/.pytorch/F_MNIST_data/', download=True, train=False, transform=transform)\n",
    "```\n",
    "\n",
    "The test set contains images just like the training set. Typically you'll see 10-20% of the original dataset held out for testing and validation with the rest being used for training."
   ]
  },
  {
   "cell_type": "code",
   "execution_count": 130,
   "metadata": {},
   "outputs": [],
   "source": [
    "import torch\n",
    "from torchvision import datasets, transforms\n",
    "\n",
    "# Define a transform to normalize the data\n",
    "transform = transforms.Compose([transforms.ToTensor(),\n",
    "                                transforms.Normalize((0.5, 0.5, 0.5), (0.5, 0.5, 0.5))])\n",
    "# Download and load the training data\n",
    "trainset = datasets.FashionMNIST('~/.pytorch/F_MNIST_data/', download=True, train=True, transform=transform)\n",
    "trainloader = torch.utils.data.DataLoader(trainset, batch_size=64, shuffle=True)\n",
    "\n",
    "# Download and load the test data\n",
    "testset = datasets.FashionMNIST('~/.pytorch/F_MNIST_data/', download=True, train=False, transform=transform)\n",
    "testloader = torch.utils.data.DataLoader(testset, batch_size=64, shuffle=True)"
   ]
  },
  {
   "cell_type": "markdown",
   "metadata": {},
   "source": [
    "Here I'll create a model like normal, using the same one from my solution for part 4."
   ]
  },
  {
   "cell_type": "code",
   "execution_count": 131,
   "metadata": {},
   "outputs": [],
   "source": [
    "from torch import nn, optim\n",
    "import torch.nn.functional as F\n",
    "\n",
    "class Classifier(nn.Module):\n",
    "    def __init__(self):\n",
    "        super().__init__()\n",
    "        self.fc1 = nn.Linear(784, 256)\n",
    "        self.fc2 = nn.Linear(256, 128)\n",
    "        self.fc3 = nn.Linear(128, 64)\n",
    "        self.fc4 = nn.Linear(64, 10)\n",
    "        \n",
    "    def forward(self, x):\n",
    "        # make sure input tensor is flattened\n",
    "        x = x.view(x.shape[0], -1)\n",
    "        \n",
    "        x = F.relu(self.fc1(x))\n",
    "        x = F.relu(self.fc2(x))\n",
    "        x = F.relu(self.fc3(x))\n",
    "        x = F.log_softmax(self.fc4(x), dim=1)\n",
    "        \n",
    "        return x"
   ]
  },
  {
   "cell_type": "markdown",
   "metadata": {},
   "source": [
    "The goal of validation is to measure the model's performance on data that isn't part of the training set. Performance here is up to the developer to define though. Typically this is just accuracy, the percentage of classes the network predicted correctly. Other options are [precision and recall](https://en.wikipedia.org/wiki/Precision_and_recall#Definition_(classification_context)) and top-5 error rate. We'll focus on accuracy here. First I'll do a forward pass with one batch from the test set."
   ]
  },
  {
   "cell_type": "code",
   "execution_count": 132,
   "metadata": {},
   "outputs": [
    {
     "name": "stdout",
     "output_type": "stream",
     "text": [
      "torch.Size([64, 10])\n"
     ]
    }
   ],
   "source": [
    "model = Classifier()\n",
    "\n",
    "images, labels = next(iter(testloader))\n",
    "# Get the class probabilities\n",
    "ps = torch.exp(model(images))\n",
    "# Make sure the shape is appropriate, we should get 10 class probabilities for 64 examples\n",
    "print(ps.shape)"
   ]
  },
  {
   "cell_type": "markdown",
   "metadata": {},
   "source": [
    "With the probabilities, we can get the most likely class using the `ps.topk` method. This returns the $k$ highest values. Since we just want the most likely class, we can use `ps.topk(1)`. This returns a tuple of the top-$k$ values and the top-$k$ indices. If the highest value is the fifth element, we'll get back 4 as the index."
   ]
  },
  {
   "cell_type": "code",
   "execution_count": 133,
   "metadata": {},
   "outputs": [
    {
     "name": "stdout",
     "output_type": "stream",
     "text": [
      "tensor([[4],\n",
      "        [4],\n",
      "        [1],\n",
      "        [1],\n",
      "        [1],\n",
      "        [4],\n",
      "        [1],\n",
      "        [1],\n",
      "        [4],\n",
      "        [1]])\n"
     ]
    }
   ],
   "source": [
    "top_p, top_class = ps.topk(1, dim=1)\n",
    "# Look at the most likely classes for the first 10 examples\n",
    "print(top_class[:10,:])"
   ]
  },
  {
   "cell_type": "markdown",
   "metadata": {},
   "source": [
    "Now we can check if the predicted classes match the labels. This is simple to do by equating `top_class` and `labels`, but we have to be careful of the shapes. Here `top_class` is a 2D tensor with shape `(64, 1)` while `labels` is 1D with shape `(64)`. To get the equality to work out the way we want, `top_class` and `labels` must have the same shape.\n",
    "\n",
    "If we do\n",
    "\n",
    "```python\n",
    "equals = top_class == labels\n",
    "```\n",
    "\n",
    "`equals` will have shape `(64, 64)`, try it yourself. What it's doing is comparing the one element in each row of `top_class` with each element in `labels` which returns 64 True/False boolean values for each row."
   ]
  },
  {
   "cell_type": "code",
   "execution_count": 134,
   "metadata": {},
   "outputs": [
    {
     "data": {
      "text/plain": [
       "torch.Size([64, 1])"
      ]
     },
     "execution_count": 134,
     "metadata": {},
     "output_type": "execute_result"
    }
   ],
   "source": [
    "equals = top_class == labels.view(*top_class.shape)\n",
    "equals.shape"
   ]
  },
  {
   "cell_type": "markdown",
   "metadata": {},
   "source": [
    "Now we need to calculate the percentage of correct predictions. `equals` has binary values, either 0 or 1. This means that if we just sum up all the values and divide by the number of values, we get the percentage of correct predictions. This is the same operation as taking the mean, so we can get the accuracy with a call to `torch.mean`. If only it was that simple. If you try `torch.mean(equals)`, you'll get an error\n",
    "\n",
    "```\n",
    "RuntimeError: mean is not implemented for type torch.ByteTensor\n",
    "```\n",
    "\n",
    "This happens because `equals` has type `torch.ByteTensor` but `torch.mean` isn't implemented for tensors with that type. So we'll need to convert `equals` to a float tensor. Note that when we take `torch.mean` it returns a scalar tensor, to get the actual value as a float we'll need to do `accuracy.item()`."
   ]
  },
  {
   "cell_type": "code",
   "execution_count": 135,
   "metadata": {},
   "outputs": [
    {
     "name": "stdout",
     "output_type": "stream",
     "text": [
      "Accuracy: 12.5%\n"
     ]
    }
   ],
   "source": [
    "accuracy = torch.mean(equals.type(torch.FloatTensor))\n",
    "print(f'Accuracy: {accuracy.item()*100}%')"
   ]
  },
  {
   "cell_type": "markdown",
   "metadata": {},
   "source": [
    "The network is untrained so it's making random guesses and we should see an accuracy around 10%. Now let's train our network and include our validation pass so we can measure how well the network is performing on the test set. Since we're not updating our parameters in the validation pass, we can speed up our code by turning off gradients using `torch.no_grad()`:\n",
    "\n",
    "```python\n",
    "# turn off gradients\n",
    "with torch.no_grad():\n",
    "    # validation pass here\n",
    "    for images, labels in testloader:\n",
    "        ...\n",
    "```\n",
    "\n",
    ">**Exercise:** Implement the validation loop below and print out the total accuracy after the loop. You can largely copy and paste the code from above, but I suggest typing it in because writing it out yourself is essential for building the skill. In general you'll always learn more by typing it rather than copy-pasting. You should be able to get an accuracy above 80%."
   ]
  },
  {
   "cell_type": "code",
   "execution_count": 136,
   "metadata": {},
   "outputs": [
    {
     "name": "stdout",
     "output_type": "stream",
     "text": [
      "\n",
      "Epoch: 0\n",
      "Accuracy: 75.0%\n",
      "\n",
      "Epoch: 1\n",
      "Accuracy: 81.25%\n",
      "\n",
      "Epoch: 2\n",
      "Accuracy: 68.75%\n",
      "\n",
      "Epoch: 3\n",
      "Accuracy: 75.0%\n",
      "\n",
      "Epoch: 4\n",
      "Accuracy: 93.75%\n",
      "\n",
      "Epoch: 5\n",
      "Accuracy: 75.0%\n",
      "\n",
      "Epoch: 6\n",
      "Accuracy: 81.25%\n",
      "\n",
      "Epoch: 7\n",
      "Accuracy: 75.0%\n",
      "\n",
      "Epoch: 8\n",
      "Accuracy: 81.25%\n",
      "\n",
      "Epoch: 9\n",
      "Accuracy: 62.5%\n",
      "\n",
      "Epoch: 10\n",
      "Accuracy: 93.75%\n",
      "\n",
      "Epoch: 11\n",
      "Accuracy: 93.75%\n",
      "\n",
      "Epoch: 12\n",
      "Accuracy: 75.0%\n",
      "\n",
      "Epoch: 13\n",
      "Accuracy: 81.25%\n",
      "\n",
      "Epoch: 14\n",
      "Accuracy: 87.5%\n",
      "\n",
      "Epoch: 15\n",
      "Accuracy: 81.25%\n",
      "\n",
      "Epoch: 16\n",
      "Accuracy: 100.0%\n",
      "\n",
      "Epoch: 17\n",
      "Accuracy: 93.75%\n",
      "\n",
      "Epoch: 18\n",
      "Accuracy: 87.5%\n",
      "\n",
      "Epoch: 19\n",
      "Accuracy: 81.25%\n"
     ]
    }
   ],
   "source": [
    "model = Classifier()\n",
    "criterion = nn.NLLLoss()\n",
    "optimizer = optim.Adam(model.parameters(), lr=0.003)\n",
    "\n",
    "epochs = 20\n",
    "steps = 0\n",
    "\n",
    "train_losses, test_losses = [], []\n",
    "for e in range(epochs):\n",
    "    print(\"\\nEpoch:\", e)\n",
    "    training_loss = 0\n",
    "    test_loss = 0\n",
    "    accuracy = 0\n",
    "    \n",
    "    for images, labels in trainloader:\n",
    "        \n",
    "        optimizer.zero_grad()\n",
    "        \n",
    "        log_ps = model(images)\n",
    "        loss = criterion(log_ps, labels)\n",
    "        loss.backward()\n",
    "        optimizer.step()\n",
    "        \n",
    "        training_loss += loss.item()\n",
    "        \n",
    "    else:\n",
    "        ## TODO: Implement the validation pass and print out the validation accuracy\n",
    "\n",
    "        # take off the gradient's memory\n",
    "        with torch.no_grad():\n",
    "            \n",
    "            # pretty much run the same steps with the test set\n",
    "            for img, lbl in testloader:\n",
    "                \n",
    "                # get log-softmax output\n",
    "                log_probs = model(img)\n",
    "                \n",
    "                # calculate the loss\n",
    "                test_loss += criterion(log_probs, lbl)\n",
    "                \n",
    "                # get actual probabilities from the log-softmax output\n",
    "                output = torch.exp(log_probs)\n",
    "                \n",
    "                # test the probs\n",
    "                # get the results (we're using ps.topk)\n",
    "                top_vals, top_result = output.topk(1, dim=1)\n",
    "                \n",
    "                # ignore if batches are different sizes\n",
    "                if top_result.shape[0] != lbl.shape[0]:\n",
    "                    continue\n",
    "                else:\n",
    "                    # get the # of correct results\n",
    "                    equals = top_result == lbl.view(*top_result.shape)\n",
    "\n",
    "                    # translate this to % correct\n",
    "                    accuracy = torch.mean(equals.type(torch.FloatTensor))\n",
    "                \n",
    "        print(f'Accuracy: {accuracy.item()*100}%')\n",
    "    train_losses.append(training_loss/len(trainloader))\n",
    "    test_losses.append(test_loss/len(testloader))\n",
    "#     print('train losses:', training_loss/len(trainloader))\n",
    "#     print('test losses:', test_loss/len(testloader))\n",
    "#     print('accuracy:', accuracy/len(testloader))"
   ]
  },
  {
   "cell_type": "code",
   "execution_count": 137,
   "metadata": {},
   "outputs": [],
   "source": [
    "%matplotlib inline\n",
    "%config InlineBackend.figure_format = 'retina'\n",
    "\n",
    "import matplotlib.pyplot as plt"
   ]
  },
  {
   "cell_type": "code",
   "execution_count": 138,
   "metadata": {
    "scrolled": true
   },
   "outputs": [
    {
     "data": {
      "text/plain": [
       "<matplotlib.legend.Legend at 0x1f535fd79b0>"
      ]
     },
     "execution_count": 138,
     "metadata": {},
     "output_type": "execute_result"
    },
    {
     "data": {
      "image/png": "[encoded data removed]",
      "text/plain": [
       "<Figure size 432x288 with 1 Axes>"
      ]
     },
     "metadata": {
      "image/png": {
       "height": 250,
       "width": 380
      }
     },
     "output_type": "display_data"
    }
   ],
   "source": [
    "plt.plot(train_losses, label = 'Training loss')\n",
    "plt.plot(test_losses, label='Validation loss')\n",
    "plt.legend(frameon=False)"
   ]
  },
  {
   "cell_type": "markdown",
   "metadata": {},
   "source": [
    "## Overfitting\n",
    "\n",
    "If we look at the training and validation losses as we train the network, we can see a phenomenon known as overfitting.\n",
    "\n",
    "<img src='assets/overfitting.png' width=450px>\n",
    "\n",
    "The network learns the training set better and better, resulting in lower training losses. However, it starts having problems generalizing to data outside the training set leading to the validation loss increasing. The ultimate goal of any deep learning model is to make predictions on new data, so we should strive to get the lowest validation loss possible. One option is to use the version of the model with the lowest validation loss, here the one around 8-10 training epochs. This strategy is called *early-stopping*. In practice, you'd save the model frequently as you're training then later choose the model with the lowest validation loss.\n",
    "\n",
    "The most common method to reduce overfitting (outside of early-stopping) is *dropout*, where we randomly drop input units. This forces the network to share information between weights, increasing it's ability to generalize to new data. Adding dropout in PyTorch is straightforward using the [`nn.Dropout`](https://pytorch.org/docs/stable/nn.html#torch.nn.Dropout) module.\n",
    "\n",
    "```python\n",
    "class Classifier(nn.Module):\n",
    "    def __init__(self):\n",
    "        super().__init__()\n",
    "        self.fc1 = nn.Linear(784, 256)\n",
    "        self.fc2 = nn.Linear(256, 128)\n",
    "        self.fc3 = nn.Linear(128, 64)\n",
    "        self.fc4 = nn.Linear(64, 10)\n",
    "        \n",
    "        # Dropout module with 0.2 drop probability\n",
    "        self.dropout = nn.Dropout(p=0.2)\n",
    "        \n",
    "    def forward(self, x):\n",
    "        # make sure input tensor is flattened\n",
    "        x = x.view(x.shape[0], -1)\n",
    "        \n",
    "        # Now with dropout\n",
    "        x = self.dropout(F.relu(self.fc1(x)))\n",
    "        x = self.dropout(F.relu(self.fc2(x)))\n",
    "        x = self.dropout(F.relu(self.fc3(x)))\n",
    "        \n",
    "        # output so no dropout here\n",
    "        x = F.log_softmax(self.fc4(x), dim=1)\n",
    "        \n",
    "        return x\n",
    "```\n",
    "\n",
    "During training we want to use dropout to prevent overfitting, but during inference we want to use the entire network. So, we need to turn off dropout during validation, testing, and whenever we're using the network to make predictions. To do this, you use `model.eval()`. This sets the model to evaluation mode where the dropout probability is 0. You can turn dropout back on by setting the model to train mode with `model.train()`. In general, the pattern for the validation loop will look like this, where you turn off gradients, set the model to evaluation mode, calculate the validation loss and metric, then set the model back to train mode.\n",
    "\n",
    "```python\n",
    "# turn off gradients\n",
    "with torch.no_grad():\n",
    "    \n",
    "    # set model to evaluation mode\n",
    "    model.eval()\n",
    "    \n",
    "    # validation pass here\n",
    "    for images, labels in testloader:\n",
    "        ...\n",
    "\n",
    "# set model back to train mode\n",
    "model.train()\n",
    "```"
   ]
  },
  {
   "cell_type": "markdown",
   "metadata": {},
   "source": [
    "> **Exercise:** Add dropout to your model and train it on Fashion-MNIST again. See if you can get a lower validation loss or higher accuracy."
   ]
  },
  {
   "cell_type": "code",
   "execution_count": 139,
   "metadata": {},
   "outputs": [],
   "source": [
    "## TODO: Define your model with dropout added\n",
    "\n",
    "class Network(nn.Module):\n",
    "    def __init__(self):\n",
    "        super().__init__()\n",
    "        self.fc1 = nn.Linear(784, 128)\n",
    "        self.fc2 = nn.Linear(128, 64)\n",
    "        self.fc3 = nn.Linear(64, 10)\n",
    "        \n",
    "        self.dropout = nn.Dropout(p=0.2)\n",
    "        \n",
    "    def forward(self, x):\n",
    "        # flatten images\n",
    "        x = x.view(x.shape[0], -1)\n",
    "        \n",
    "        x = self.dropout(F.relu(self.fc1(x)))\n",
    "        x = self.dropout(F.relu(self.fc2(x)))\n",
    "        \n",
    "        x = F.log_softmax(self.fc3(x), dim=1)\n",
    "        \n",
    "        return x"
   ]
  },
  {
   "cell_type": "code",
   "execution_count": 140,
   "metadata": {},
   "outputs": [
    {
     "data": {
      "text/plain": [
       "Network(\n",
       "  (fc1): Linear(in_features=784, out_features=128, bias=True)\n",
       "  (fc2): Linear(in_features=128, out_features=64, bias=True)\n",
       "  (fc3): Linear(in_features=64, out_features=10, bias=True)\n",
       "  (dropout): Dropout(p=0.2)\n",
       ")"
      ]
     },
     "execution_count": 140,
     "metadata": {},
     "output_type": "execute_result"
    }
   ],
   "source": [
    "model = Network()\n",
    "\n",
    "criterion = nn.NLLLoss()\n",
    "optimizer = optim.Adam(model.parameters(), lr=0.1)\n",
    "\n",
    "model"
   ]
  },
  {
   "cell_type": "code",
   "execution_count": 141,
   "metadata": {},
   "outputs": [
    {
     "name": "stdout",
     "output_type": "stream",
     "text": [
      "\n",
      "Epoch: 0\n",
      "Test loss: tensor(362.7201)\n",
      "loss: tensor(2.2422)\n",
      "loss.item: 2.2421622276306152\n",
      "Acc.item(): 25.0%\n",
      "Accuracy.item(): 1581.25%\n",
      "Accuracy: 15.8125\n",
      "Acc: 0.25\n",
      "\n",
      "Epoch: 1\n",
      "Test loss: tensor(363.6153)\n",
      "loss: tensor(2.2748)\n",
      "loss.item: 2.274801015853882\n",
      "Acc.item(): 18.75%\n",
      "Accuracy.item(): 1576.5625%\n",
      "Accuracy: 15.765625\n",
      "Acc: 0.1875\n",
      "\n",
      "Epoch: 2\n",
      "Test loss: tensor(362.7466)\n",
      "loss: tensor(2.3505)\n",
      "loss.item: 2.350536346435547\n",
      "Acc.item(): 6.25%\n",
      "Accuracy.item(): 1567.1875%\n",
      "Accuracy: 15.671875\n",
      "Acc: 0.0625\n",
      "\n",
      "Epoch: 3\n",
      "Test loss: tensor(362.8839)\n",
      "loss: tensor(2.3459)\n",
      "loss.item: 2.3459482192993164\n",
      "Acc.item(): 6.25%\n",
      "Accuracy.item(): 1567.1875%\n",
      "Accuracy: 15.671875\n",
      "Acc: 0.0625\n",
      "\n",
      "Epoch: 4\n",
      "Test loss: tensor(364.1741)\n",
      "loss: tensor(2.3165)\n",
      "loss.item: 2.3165442943573\n",
      "Acc.item(): 6.25%\n",
      "Accuracy.item(): 1567.1875%\n",
      "Accuracy: 15.671875\n",
      "Acc: 0.0625\n",
      "\n",
      "Epoch: 5\n",
      "Test loss: tensor(362.3479)\n",
      "loss: tensor(2.3084)\n",
      "loss.item: 2.308356761932373\n",
      "Acc.item(): 6.25%\n",
      "Accuracy.item(): 1567.1875%\n",
      "Accuracy: 15.671875\n",
      "Acc: 0.0625\n",
      "\n",
      "Epoch: 6\n",
      "Test loss: tensor(363.0685)\n",
      "loss: tensor(2.3225)\n",
      "loss.item: 2.322462797164917\n",
      "Acc.item(): 6.25%\n",
      "Accuracy.item(): 1567.1875%\n",
      "Accuracy: 15.671875\n",
      "Acc: 0.0625\n",
      "\n",
      "Epoch: 7\n",
      "Test loss: tensor(362.8296)\n",
      "loss: tensor(2.2944)\n",
      "loss.item: 2.2944254875183105\n",
      "Acc.item(): 6.25%\n",
      "Accuracy.item(): 1567.1875%\n",
      "Accuracy: 15.671875\n",
      "Acc: 0.0625\n",
      "\n",
      "Epoch: 8\n",
      "Test loss: tensor(363.0031)\n",
      "loss: tensor(2.3486)\n",
      "loss.item: 2.3486335277557373\n",
      "Acc.item(): 0.0%\n",
      "Accuracy.item(): 1562.5%\n",
      "Accuracy: 15.625\n",
      "Acc: 0.0\n",
      "\n",
      "Epoch: 9\n",
      "Test loss: tensor(362.8978)\n",
      "loss: tensor(2.3514)\n",
      "loss.item: 2.351353168487549\n",
      "Acc.item(): 12.5%\n",
      "Accuracy.item(): 1571.875%\n",
      "Accuracy: 15.71875\n",
      "Acc: 0.125\n"
     ]
    }
   ],
   "source": [
    "## TODO: Train your model with dropout, and monitor the training progress with the validation loss and accuracy\n",
    "\n",
    "# accumulated variables\n",
    "epochs = 10\n",
    "training_losses = []\n",
    "test_losses = []\n",
    "\n",
    "for e in range(epochs):\n",
    "    # reset values\n",
    "    training_loss = 0\n",
    "    test_loss = 0\n",
    "    accuracy = 0    \n",
    "    \n",
    "    # either the training pass\n",
    "    for images, labels in trainloader:\n",
    "        \n",
    "        # zero out optimizer's memory\n",
    "        optimizer.zero_grad()\n",
    "        \n",
    "        # get output, loss, go back, optimize\n",
    "        logps = model(images)\n",
    "        loss = criterion(logps, labels)\n",
    "        loss.backward()\n",
    "        optimizer.step()\n",
    "        \n",
    "        training_loss += loss.item()\n",
    "    \n",
    "    else:\n",
    "        # turn off the gradient memory for test pass\n",
    "        with torch.no_grad():\n",
    "            for images, labels in testloader:\n",
    "\n",
    "                # set model to evaluation mode\n",
    "                model.eval()\n",
    "\n",
    "                # get output, loss\n",
    "                logps = model(images)\n",
    "                loss = criterion(logps, labels)\n",
    "\n",
    "                # get actual probabilities\n",
    "                ps = torch.exp(logps)\n",
    "                \n",
    "                # evaluate the outcomes\n",
    "                _, top_results = ps.topk(1, dim=1)\n",
    "                equals = top_results == labels.view(*top_results.shape)\n",
    "                \n",
    "                # change to float type and get the mean\n",
    "                acc = torch.mean(equals.type(torch.FloatTensor))\n",
    "                \n",
    "                # log the loss and accuracy\n",
    "                test_loss += loss\n",
    "                accuracy += acc\n",
    "                \n",
    "            print(\"\\nEpoch:\", e)\n",
    "            print('Test loss:', test_loss) # accumulated\n",
    "            print('loss:', loss) # a scalar\n",
    "            print('loss.item:', loss.item()) # same as loss because it's a scalar\n",
    "                \n",
    "                # people on slack said that loss is a scalar because it's the returned mean\n",
    "                # accuracy should be a 1x1 tensor, and .item() plucks it out of the tensor into a scalar.\n",
    "                # or vice versa. \n",
    "                # or something similar.\n",
    "                # go to sleep and think on it in the morning!\n",
    "        print(f'Acc.item(): {acc.item()*100}%') \n",
    "        print(f'Accuracy.item(): {accuracy.item()*100}%')\n",
    "        print(f'Accuracy: {accuracy}')\n",
    "        print(f'Acc: {acc}')\n",
    "        \n",
    "    # append the % train/test losses\n",
    "    training_losses.append(training_loss/len(trainloader))\n",
    "    test_losses.append(test_loss/len(testloader))\n",
    "        \n",
    "    # reset model to training mode\n",
    "    model.train()"
   ]
  },
  {
   "cell_type": "code",
   "execution_count": 146,
   "metadata": {},
   "outputs": [
    {
     "data": {
      "text/plain": [
       "<matplotlib.legend.Legend at 0x1f5354f15f8>"
      ]
     },
     "execution_count": 146,
     "metadata": {},
     "output_type": "execute_result"
    },
    {
     "data": {
      "image/png": "[encoded data removed]",
      "text/plain": [
       "<Figure size 432x288 with 1 Axes>"
      ]
     },
     "metadata": {
      "image/png": {
       "height": 250,
       "width": 373
      }
     },
     "output_type": "display_data"
    }
   ],
   "source": [
    "plt.plot(training_losses, label=\"Training Loss\")\n",
    "plt.plot(test_losses, label=\"Validation Loss\")\n",
    "plt.legend(frameon=False)"
   ]
  },
  {
   "cell_type": "code",
   "execution_count": null,
   "metadata": {},
   "outputs": [],
   "source": []
  },
  {
   "cell_type": "markdown",
   "metadata": {},
   "source": [
    "## Inference\n",
    "\n",
    "Now that the model is trained, we can use it for inference. We've done this before, but now we need to remember to set the model in inference mode with `model.eval()`. You'll also want to turn off autograd with the `torch.no_grad()` context."
   ]
  },
  {
   "cell_type": "code",
   "execution_count": 29,
   "metadata": {},
   "outputs": [
    {
     "data": {
      "image/png": "[encoded data removed]",
      "text/plain": [
       "<Figure size 432x648 with 2 Axes>"
      ]
     },
     "metadata": {
      "image/png": {
       "height": 206,
       "width": 423
      },
      "needs_background": "light"
     },
     "output_type": "display_data"
    }
   ],
   "source": [
    "# Import helper module (should be in the repo)\n",
    "import helper\n",
    "\n",
    "# Test out your network!\n",
    "\n",
    "model.eval()\n",
    "\n",
    "dataiter = iter(testloader)\n",
    "images, labels = dataiter.next()\n",
    "img = images[0]\n",
    "# Convert 2D image to 1D vector\n",
    "img = img.view(1, 784)\n",
    "\n",
    "# Calculate the class probabilities (softmax) for img\n",
    "with torch.no_grad():\n",
    "    output = model.forward(img)\n",
    "\n",
    "ps = torch.exp(output)\n",
    "\n",
    "# Plot the image and probabilities\n",
    "helper.view_classify(img.view(1, 28, 28), ps, version='Fashion')"
   ]
  },
  {
   "cell_type": "markdown",
   "metadata": {},
   "source": [
    "## Next Up!\n",
    "\n",
    "In the next part, I'll show you how to save your trained models. In general, you won't want to train a model everytime you need it. Instead, you'll train once, save it, then load the model when you want to train more or use if for inference."
   ]
  }
 ],
 "metadata": {
  "kernelspec": {
   "display_name": "Python [default]",
   "language": "python",
   "name": "python3"
  },
  "language_info": {
   "codemirror_mode": {
    "name": "ipython",
    "version": 3
   },
   "file_extension": ".py",
   "mimetype": "text/x-python",
   "name": "python",
   "nbconvert_exporter": "python",
   "pygments_lexer": "ipython3",
   "version": "3.6.6"
  }
 },
 "nbformat": 4,
 "nbformat_minor": 2
}
